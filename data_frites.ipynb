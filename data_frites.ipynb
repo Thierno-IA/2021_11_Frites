{
 "cells": [
  {
   "cell_type": "code",
   "execution_count": 1,
   "id": "946f5633-8043-4759-95df-95fe385809cb",
   "metadata": {},
   "outputs": [],
   "source": [
    "import pandas as pd\n",
    "import joblib\n",
    "data = joblib.load('frite_df')\n",
    "import numpy as np\n",
    "import matplotlib.pyplot as plt\n",
    "import seaborn as sns\n",
    "from sklearn.preprocessing import MinMaxScaler, StandardScaler\n",
    "from sklearn.cluster import KMeans \n",
    "import warnings\n",
    "warnings.simplefilter(\"ignore\")"
   ]
  },
  {
   "cell_type": "code",
   "execution_count": 2,
   "id": "69b98689-d30b-4c77-84ab-df43dcbfe2a0",
   "metadata": {},
   "outputs": [],
   "source": [
    "df = data.copy()"
   ]
  },
  {
   "cell_type": "code",
   "execution_count": 3,
   "id": "ed9f6ff5-3952-4019-b7a2-b60b403c9ba9",
   "metadata": {},
   "outputs": [
    {
     "data": {
      "text/plain": [
       "Année                      27\n",
       "croissance_annuelle        27\n",
       "Population*1000            35\n",
       "ODD Depenses Agricoles     95\n",
       "Stabilité Politique        75\n",
       "PIB/Habitant               61\n",
       "Exportations_pdt          123\n",
       "Importations_pdt           99\n",
       "Exportations_Frites       133\n",
       "Importations_Frites       103\n",
       "dtype: int64"
      ]
     },
     "execution_count": 3,
     "metadata": {},
     "output_type": "execute_result"
    }
   ],
   "source": [
    "df.isna().sum()"
   ]
  },
  {
   "cell_type": "code",
   "execution_count": 4,
   "id": "0c0d812a-bfdd-4b16-9df7-4e22d2979c83",
   "metadata": {},
   "outputs": [],
   "source": [
    "df = df.fillna(0)"
   ]
  },
  {
   "cell_type": "code",
   "execution_count": 5,
   "id": "7dcb6009-5c69-458b-b065-27180bf588d6",
   "metadata": {},
   "outputs": [],
   "source": [
    "df = df.drop(\"Année\", axis = 1)"
   ]
  },
  {
   "cell_type": "code",
   "execution_count": 6,
   "id": "4d0ff133-92dd-4308-a5f2-6258ef977bc6",
   "metadata": {},
   "outputs": [],
   "source": [
    "df = df[df[\"Importations_Frites\"]!=0]"
   ]
  },
  {
   "cell_type": "code",
   "execution_count": 7,
   "id": "ab0470da-d837-4e1e-9dca-1c9a5d5f1a2b",
   "metadata": {},
   "outputs": [
    {
     "data": {
      "text/html": [
       "<div>\n",
       "<style scoped>\n",
       "    .dataframe tbody tr th:only-of-type {\n",
       "        vertical-align: middle;\n",
       "    }\n",
       "\n",
       "    .dataframe tbody tr th {\n",
       "        vertical-align: top;\n",
       "    }\n",
       "\n",
       "    .dataframe thead th {\n",
       "        text-align: right;\n",
       "    }\n",
       "</style>\n",
       "<table border=\"1\" class=\"dataframe\">\n",
       "  <thead>\n",
       "    <tr style=\"text-align: right;\">\n",
       "      <th></th>\n",
       "      <th>croissance_annuelle</th>\n",
       "      <th>Population*1000</th>\n",
       "      <th>ODD Depenses Agricoles</th>\n",
       "      <th>Stabilité Politique</th>\n",
       "      <th>PIB/Habitant</th>\n",
       "      <th>Exportations_pdt</th>\n",
       "      <th>Importations_pdt</th>\n",
       "      <th>Exportations_Frites</th>\n",
       "      <th>Importations_Frites</th>\n",
       "    </tr>\n",
       "    <tr>\n",
       "      <th>Zone</th>\n",
       "      <th></th>\n",
       "      <th></th>\n",
       "      <th></th>\n",
       "      <th></th>\n",
       "      <th></th>\n",
       "      <th></th>\n",
       "      <th></th>\n",
       "      <th></th>\n",
       "      <th></th>\n",
       "    </tr>\n",
       "  </thead>\n",
       "  <tbody>\n",
       "    <tr>\n",
       "      <th>Afghanistan</th>\n",
       "      <td>-1.418885</td>\n",
       "      <td>34413.603</td>\n",
       "      <td>0.1610</td>\n",
       "      <td>-2.57</td>\n",
       "      <td>548.684768</td>\n",
       "      <td>2618.0</td>\n",
       "      <td>192155.0</td>\n",
       "      <td>0.0</td>\n",
       "      <td>10.0</td>\n",
       "    </tr>\n",
       "    <tr>\n",
       "      <th>Afrique du Sud</th>\n",
       "      <td>1.193731</td>\n",
       "      <td>55386.367</td>\n",
       "      <td>0.6774</td>\n",
       "      <td>-0.21</td>\n",
       "      <td>5588.907652</td>\n",
       "      <td>161028.0</td>\n",
       "      <td>52.0</td>\n",
       "      <td>0.0</td>\n",
       "      <td>3.0</td>\n",
       "    </tr>\n",
       "    <tr>\n",
       "      <th>Albanie</th>\n",
       "      <td>2.218752</td>\n",
       "      <td>2890.513</td>\n",
       "      <td>0.0988</td>\n",
       "      <td>0.35</td>\n",
       "      <td>3986.104855</td>\n",
       "      <td>660.0</td>\n",
       "      <td>14899.0</td>\n",
       "      <td>0.0</td>\n",
       "      <td>676.0</td>\n",
       "    </tr>\n",
       "    <tr>\n",
       "      <th>Algérie</th>\n",
       "      <td>3.700000</td>\n",
       "      <td>39728.025</td>\n",
       "      <td>0.0000</td>\n",
       "      <td>-1.09</td>\n",
       "      <td>4081.124105</td>\n",
       "      <td>26.0</td>\n",
       "      <td>152943.0</td>\n",
       "      <td>0.0</td>\n",
       "      <td>3.0</td>\n",
       "    </tr>\n",
       "    <tr>\n",
       "      <th>Allemagne</th>\n",
       "      <td>1.491932</td>\n",
       "      <td>81787.411</td>\n",
       "      <td>0.6400</td>\n",
       "      <td>0.70</td>\n",
       "      <td>41971.254921</td>\n",
       "      <td>1693080.0</td>\n",
       "      <td>472180.0</td>\n",
       "      <td>10.0</td>\n",
       "      <td>20682.0</td>\n",
       "    </tr>\n",
       "    <tr>\n",
       "      <th>...</th>\n",
       "      <td>...</td>\n",
       "      <td>...</td>\n",
       "      <td>...</td>\n",
       "      <td>...</td>\n",
       "      <td>...</td>\n",
       "      <td>...</td>\n",
       "      <td>...</td>\n",
       "      <td>...</td>\n",
       "      <td>...</td>\n",
       "    </tr>\n",
       "    <tr>\n",
       "      <th>États-Unis d'Amérique</th>\n",
       "      <td>3.075513</td>\n",
       "      <td>320878.310</td>\n",
       "      <td>0.3933</td>\n",
       "      <td>0.68</td>\n",
       "      <td>58334.244435</td>\n",
       "      <td>411666.0</td>\n",
       "      <td>400194.0</td>\n",
       "      <td>9.0</td>\n",
       "      <td>4209.0</td>\n",
       "    </tr>\n",
       "    <tr>\n",
       "      <th>Éthiopie</th>\n",
       "      <td>10.386216</td>\n",
       "      <td>100835.458</td>\n",
       "      <td>0.1993</td>\n",
       "      <td>-1.50</td>\n",
       "      <td>623.017918</td>\n",
       "      <td>127131.0</td>\n",
       "      <td>43.0</td>\n",
       "      <td>446.0</td>\n",
       "      <td>21.0</td>\n",
       "    </tr>\n",
       "    <tr>\n",
       "      <th>Îles Cook</th>\n",
       "      <td>5.749776</td>\n",
       "      <td>17.586</td>\n",
       "      <td>0.9068</td>\n",
       "      <td>0.00</td>\n",
       "      <td>17182.614750</td>\n",
       "      <td>0.0</td>\n",
       "      <td>0.0</td>\n",
       "      <td>0.0</td>\n",
       "      <td>23.0</td>\n",
       "    </tr>\n",
       "    <tr>\n",
       "      <th>Îles Féroé</th>\n",
       "      <td>0.000000</td>\n",
       "      <td>48.051</td>\n",
       "      <td>0.0000</td>\n",
       "      <td>0.00</td>\n",
       "      <td>0.000000</td>\n",
       "      <td>0.0</td>\n",
       "      <td>0.0</td>\n",
       "      <td>0.0</td>\n",
       "      <td>125.0</td>\n",
       "    </tr>\n",
       "    <tr>\n",
       "      <th>Îles Salomon</th>\n",
       "      <td>1.417021</td>\n",
       "      <td>603.118</td>\n",
       "      <td>0.1347</td>\n",
       "      <td>0.66</td>\n",
       "      <td>1724.072749</td>\n",
       "      <td>0.0</td>\n",
       "      <td>82.0</td>\n",
       "      <td>0.0</td>\n",
       "      <td>106.0</td>\n",
       "    </tr>\n",
       "  </tbody>\n",
       "</table>\n",
       "<p>150 rows × 9 columns</p>\n",
       "</div>"
      ],
      "text/plain": [
       "                       croissance_annuelle  Population*1000  \\\n",
       "Zone                                                          \n",
       "Afghanistan                      -1.418885        34413.603   \n",
       "Afrique du Sud                    1.193731        55386.367   \n",
       "Albanie                           2.218752         2890.513   \n",
       "Algérie                           3.700000        39728.025   \n",
       "Allemagne                         1.491932        81787.411   \n",
       "...                                    ...              ...   \n",
       "États-Unis d'Amérique             3.075513       320878.310   \n",
       "Éthiopie                         10.386216       100835.458   \n",
       "Îles Cook                         5.749776           17.586   \n",
       "Îles Féroé                        0.000000           48.051   \n",
       "Îles Salomon                      1.417021          603.118   \n",
       "\n",
       "                       ODD Depenses Agricoles  Stabilité Politique  \\\n",
       "Zone                                                                 \n",
       "Afghanistan                            0.1610                -2.57   \n",
       "Afrique du Sud                         0.6774                -0.21   \n",
       "Albanie                                0.0988                 0.35   \n",
       "Algérie                                0.0000                -1.09   \n",
       "Allemagne                              0.6400                 0.70   \n",
       "...                                       ...                  ...   \n",
       "États-Unis d'Amérique                  0.3933                 0.68   \n",
       "Éthiopie                               0.1993                -1.50   \n",
       "Îles Cook                              0.9068                 0.00   \n",
       "Îles Féroé                             0.0000                 0.00   \n",
       "Îles Salomon                           0.1347                 0.66   \n",
       "\n",
       "                       PIB/Habitant  Exportations_pdt  Importations_pdt  \\\n",
       "Zone                                                                      \n",
       "Afghanistan              548.684768            2618.0          192155.0   \n",
       "Afrique du Sud          5588.907652          161028.0              52.0   \n",
       "Albanie                 3986.104855             660.0           14899.0   \n",
       "Algérie                 4081.124105              26.0          152943.0   \n",
       "Allemagne              41971.254921         1693080.0          472180.0   \n",
       "...                             ...               ...               ...   \n",
       "États-Unis d'Amérique  58334.244435          411666.0          400194.0   \n",
       "Éthiopie                 623.017918          127131.0              43.0   \n",
       "Îles Cook              17182.614750               0.0               0.0   \n",
       "Îles Féroé                 0.000000               0.0               0.0   \n",
       "Îles Salomon            1724.072749               0.0              82.0   \n",
       "\n",
       "                       Exportations_Frites  Importations_Frites  \n",
       "Zone                                                             \n",
       "Afghanistan                            0.0                 10.0  \n",
       "Afrique du Sud                         0.0                  3.0  \n",
       "Albanie                                0.0                676.0  \n",
       "Algérie                                0.0                  3.0  \n",
       "Allemagne                             10.0              20682.0  \n",
       "...                                    ...                  ...  \n",
       "États-Unis d'Amérique                  9.0               4209.0  \n",
       "Éthiopie                             446.0                 21.0  \n",
       "Îles Cook                              0.0                 23.0  \n",
       "Îles Féroé                             0.0                125.0  \n",
       "Îles Salomon                           0.0                106.0  \n",
       "\n",
       "[150 rows x 9 columns]"
      ]
     },
     "execution_count": 7,
     "metadata": {},
     "output_type": "execute_result"
    }
   ],
   "source": [
    "df"
   ]
  },
  {
   "cell_type": "code",
   "execution_count": 8,
   "id": "bff8fec9-3a99-4c7d-b46f-db7d81840377",
   "metadata": {},
   "outputs": [
    {
     "data": {
      "text/plain": [
       "['df_frites']"
      ]
     },
     "execution_count": 8,
     "metadata": {},
     "output_type": "execute_result"
    }
   ],
   "source": [
    "joblib.dump(df, 'df_frites')"
   ]
  },
  {
   "cell_type": "code",
   "execution_count": 9,
   "id": "6dd2aa2a-92b3-4f02-b9fd-3fbe522a0f10",
   "metadata": {},
   "outputs": [],
   "source": [
    "pd.set_option('display.max_rows', 150)\n",
    "pd.set_option(\"display.max_columns\", 10)"
   ]
  },
  {
   "cell_type": "code",
   "execution_count": 10,
   "id": "6cdac624-60d2-4ec2-9be0-7675aefd1006",
   "metadata": {},
   "outputs": [
    {
     "data": {
      "text/html": [
       "<div>\n",
       "<style scoped>\n",
       "    .dataframe tbody tr th:only-of-type {\n",
       "        vertical-align: middle;\n",
       "    }\n",
       "\n",
       "    .dataframe tbody tr th {\n",
       "        vertical-align: top;\n",
       "    }\n",
       "\n",
       "    .dataframe thead th {\n",
       "        text-align: right;\n",
       "    }\n",
       "</style>\n",
       "<table border=\"1\" class=\"dataframe\">\n",
       "  <thead>\n",
       "    <tr style=\"text-align: right;\">\n",
       "      <th></th>\n",
       "      <th>croissance_annuelle</th>\n",
       "      <th>Population*1000</th>\n",
       "      <th>ODD Depenses Agricoles</th>\n",
       "      <th>Stabilité Politique</th>\n",
       "      <th>PIB/Habitant</th>\n",
       "      <th>Exportations_pdt</th>\n",
       "      <th>Importations_pdt</th>\n",
       "      <th>Exportations_Frites</th>\n",
       "      <th>Importations_Frites</th>\n",
       "    </tr>\n",
       "    <tr>\n",
       "      <th>Zone</th>\n",
       "      <th></th>\n",
       "      <th></th>\n",
       "      <th></th>\n",
       "      <th></th>\n",
       "      <th></th>\n",
       "      <th></th>\n",
       "      <th></th>\n",
       "      <th></th>\n",
       "      <th></th>\n",
       "    </tr>\n",
       "  </thead>\n",
       "  <tbody>\n",
       "    <tr>\n",
       "      <th>Afghanistan</th>\n",
       "      <td>-1.418885</td>\n",
       "      <td>34413.603</td>\n",
       "      <td>0.1610</td>\n",
       "      <td>-2.57</td>\n",
       "      <td>548.684768</td>\n",
       "      <td>2618.0</td>\n",
       "      <td>192155.0</td>\n",
       "      <td>0.0</td>\n",
       "      <td>10.0</td>\n",
       "    </tr>\n",
       "    <tr>\n",
       "      <th>Afrique du Sud</th>\n",
       "      <td>1.193731</td>\n",
       "      <td>55386.367</td>\n",
       "      <td>0.6774</td>\n",
       "      <td>-0.21</td>\n",
       "      <td>5588.907652</td>\n",
       "      <td>161028.0</td>\n",
       "      <td>52.0</td>\n",
       "      <td>0.0</td>\n",
       "      <td>3.0</td>\n",
       "    </tr>\n",
       "    <tr>\n",
       "      <th>Albanie</th>\n",
       "      <td>2.218752</td>\n",
       "      <td>2890.513</td>\n",
       "      <td>0.0988</td>\n",
       "      <td>0.35</td>\n",
       "      <td>3986.104855</td>\n",
       "      <td>660.0</td>\n",
       "      <td>14899.0</td>\n",
       "      <td>0.0</td>\n",
       "      <td>676.0</td>\n",
       "    </tr>\n",
       "  </tbody>\n",
       "</table>\n",
       "</div>"
      ],
      "text/plain": [
       "                croissance_annuelle  Population*1000  ODD Depenses Agricoles  \\\n",
       "Zone                                                                           \n",
       "Afghanistan               -1.418885        34413.603                  0.1610   \n",
       "Afrique du Sud             1.193731        55386.367                  0.6774   \n",
       "Albanie                    2.218752         2890.513                  0.0988   \n",
       "\n",
       "                Stabilité Politique  PIB/Habitant  Exportations_pdt  \\\n",
       "Zone                                                                  \n",
       "Afghanistan                   -2.57    548.684768            2618.0   \n",
       "Afrique du Sud                -0.21   5588.907652          161028.0   \n",
       "Albanie                        0.35   3986.104855             660.0   \n",
       "\n",
       "                Importations_pdt  Exportations_Frites  Importations_Frites  \n",
       "Zone                                                                        \n",
       "Afghanistan             192155.0                  0.0                 10.0  \n",
       "Afrique du Sud              52.0                  0.0                  3.0  \n",
       "Albanie                  14899.0                  0.0                676.0  "
      ]
     },
     "execution_count": 10,
     "metadata": {},
     "output_type": "execute_result"
    }
   ],
   "source": [
    "df.head(3)"
   ]
  },
  {
   "cell_type": "code",
   "execution_count": 11,
   "id": "67926930-cfad-4a6e-bdad-117fede0e041",
   "metadata": {},
   "outputs": [
    {
     "data": {
      "text/plain": [
       "<AxesSubplot:>"
      ]
     },
     "execution_count": 11,
     "metadata": {},
     "output_type": "execute_result"
    },
    {
     "data": {
      "image/png": "[encoded data removed]",
      "text/plain": [
       "<Figure size 432x288 with 2 Axes>"
      ]
     },
     "metadata": {
      "needs_background": "light"
     },
     "output_type": "display_data"
    }
   ],
   "source": [
    "sns.heatmap(df.corr())"
   ]
  },
  {
   "cell_type": "code",
   "execution_count": 12,
   "id": "0b5ca38b-5c4d-41b9-aa18-68d2b46e44c8",
   "metadata": {},
   "outputs": [],
   "source": [
    "#df.head"
   ]
  },
  {
   "cell_type": "code",
   "execution_count": 13,
   "id": "abccad5d-8c3e-4f80-afd0-f4d59386e6af",
   "metadata": {},
   "outputs": [],
   "source": [
    "#sc = MinMaxScaler()"
   ]
  },
  {
   "cell_type": "code",
   "execution_count": 14,
   "id": "bfe7db0a-3a95-4201-abf9-5d24ac39acb8",
   "metadata": {},
   "outputs": [],
   "source": [
    "sc = StandardScaler()"
   ]
  },
  {
   "cell_type": "code",
   "execution_count": 15,
   "id": "545bcfa4-b996-4ed4-aeb9-1afa498e7c4f",
   "metadata": {},
   "outputs": [],
   "source": [
    "X_sc = sc.fit_transform(df)"
   ]
  },
  {
   "cell_type": "code",
   "execution_count": 16,
   "id": "7fa1b591-0e0c-4a5b-9479-86781466a3b1",
   "metadata": {},
   "outputs": [
    {
     "data": {
      "text/plain": [
       "['scaler_frites']"
      ]
     },
     "execution_count": 16,
     "metadata": {},
     "output_type": "execute_result"
    }
   ],
   "source": [
    "joblib.dump(X_sc, \"scaler_frites\")"
   ]
  },
  {
   "cell_type": "code",
   "execution_count": 17,
   "id": "a2b3edd1-48d5-42a2-8378-71a98de5d1e8",
   "metadata": {},
   "outputs": [
    {
     "data": {
      "text/html": [
       "<div>\n",
       "<style scoped>\n",
       "    .dataframe tbody tr th:only-of-type {\n",
       "        vertical-align: middle;\n",
       "    }\n",
       "\n",
       "    .dataframe tbody tr th {\n",
       "        vertical-align: top;\n",
       "    }\n",
       "\n",
       "    .dataframe thead th {\n",
       "        text-align: right;\n",
       "    }\n",
       "</style>\n",
       "<table border=\"1\" class=\"dataframe\">\n",
       "  <thead>\n",
       "    <tr style=\"text-align: right;\">\n",
       "      <th></th>\n",
       "      <th>0</th>\n",
       "      <th>1</th>\n",
       "      <th>2</th>\n",
       "      <th>3</th>\n",
       "      <th>4</th>\n",
       "      <th>5</th>\n",
       "      <th>6</th>\n",
       "      <th>7</th>\n",
       "      <th>8</th>\n",
       "    </tr>\n",
       "  </thead>\n",
       "  <tbody>\n",
       "    <tr>\n",
       "      <th>count</th>\n",
       "      <td>1.500000e+02</td>\n",
       "      <td>1.500000e+02</td>\n",
       "      <td>1.500000e+02</td>\n",
       "      <td>1.500000e+02</td>\n",
       "      <td>1.500000e+02</td>\n",
       "      <td>1.500000e+02</td>\n",
       "      <td>1.500000e+02</td>\n",
       "      <td>1.500000e+02</td>\n",
       "      <td>1.500000e+02</td>\n",
       "    </tr>\n",
       "    <tr>\n",
       "      <th>mean</th>\n",
       "      <td>6.661338e-18</td>\n",
       "      <td>-3.700743e-18</td>\n",
       "      <td>-7.327472e-17</td>\n",
       "      <td>-9.621933e-18</td>\n",
       "      <td>2.738550e-17</td>\n",
       "      <td>-5.366078e-17</td>\n",
       "      <td>-4.440892e-18</td>\n",
       "      <td>-1.591320e-17</td>\n",
       "      <td>-4.588922e-17</td>\n",
       "    </tr>\n",
       "    <tr>\n",
       "      <th>std</th>\n",
       "      <td>1.003350e+00</td>\n",
       "      <td>1.003350e+00</td>\n",
       "      <td>1.003350e+00</td>\n",
       "      <td>1.003350e+00</td>\n",
       "      <td>1.003350e+00</td>\n",
       "      <td>1.003350e+00</td>\n",
       "      <td>1.003350e+00</td>\n",
       "      <td>1.003350e+00</td>\n",
       "      <td>1.003350e+00</td>\n",
       "    </tr>\n",
       "    <tr>\n",
       "      <th>min</th>\n",
       "      <td>-7.926764e+00</td>\n",
       "      <td>-5.288748e-01</td>\n",
       "      <td>-5.718822e-01</td>\n",
       "      <td>-3.196685e+00</td>\n",
       "      <td>-7.741961e-01</td>\n",
       "      <td>-2.340212e-01</td>\n",
       "      <td>-3.654994e-01</td>\n",
       "      <td>-2.105935e-01</td>\n",
       "      <td>-3.389854e-01</td>\n",
       "    </tr>\n",
       "    <tr>\n",
       "      <th>25%</th>\n",
       "      <td>-2.374877e-01</td>\n",
       "      <td>-4.865476e-01</td>\n",
       "      <td>-4.868193e-01</td>\n",
       "      <td>-5.087688e-01</td>\n",
       "      <td>-6.383061e-01</td>\n",
       "      <td>-2.340212e-01</td>\n",
       "      <td>-3.598377e-01</td>\n",
       "      <td>-2.105935e-01</td>\n",
       "      <td>-3.346291e-01</td>\n",
       "    </tr>\n",
       "    <tr>\n",
       "      <th>50%</th>\n",
       "      <td>6.433953e-02</td>\n",
       "      <td>-3.640097e-01</td>\n",
       "      <td>-2.419431e-01</td>\n",
       "      <td>7.719696e-02</td>\n",
       "      <td>-4.317800e-01</td>\n",
       "      <td>-2.326535e-01</td>\n",
       "      <td>-3.121219e-01</td>\n",
       "      <td>-2.074308e-01</td>\n",
       "      <td>-3.182929e-01</td>\n",
       "    </tr>\n",
       "    <tr>\n",
       "      <th>75%</th>\n",
       "      <td>3.227822e-01</td>\n",
       "      <td>-3.322241e-02</td>\n",
       "      <td>6.447247e-02</td>\n",
       "      <td>8.136861e-01</td>\n",
       "      <td>1.382112e-01</td>\n",
       "      <td>-1.985302e-01</td>\n",
       "      <td>-1.355498e-01</td>\n",
       "      <td>-1.497116e-01</td>\n",
       "      <td>-1.883657e-01</td>\n",
       "    </tr>\n",
       "    <tr>\n",
       "      <th>max</th>\n",
       "      <td>3.698033e+00</td>\n",
       "      <td>6.057231e+00</td>\n",
       "      <td>8.802001e+00</td>\n",
       "      <td>1.641564e+00</td>\n",
       "      <td>4.246248e+00</td>\n",
       "      <td>8.215924e+00</td>\n",
       "      <td>9.131885e+00</td>\n",
       "      <td>1.015673e+01</td>\n",
       "      <td>8.918626e+00</td>\n",
       "    </tr>\n",
       "  </tbody>\n",
       "</table>\n",
       "</div>"
      ],
      "text/plain": [
       "                  0             1             2             3             4  \\\n",
       "count  1.500000e+02  1.500000e+02  1.500000e+02  1.500000e+02  1.500000e+02   \n",
       "mean   6.661338e-18 -3.700743e-18 -7.327472e-17 -9.621933e-18  2.738550e-17   \n",
       "std    1.003350e+00  1.003350e+00  1.003350e+00  1.003350e+00  1.003350e+00   \n",
       "min   -7.926764e+00 -5.288748e-01 -5.718822e-01 -3.196685e+00 -7.741961e-01   \n",
       "25%   -2.374877e-01 -4.865476e-01 -4.868193e-01 -5.087688e-01 -6.383061e-01   \n",
       "50%    6.433953e-02 -3.640097e-01 -2.419431e-01  7.719696e-02 -4.317800e-01   \n",
       "75%    3.227822e-01 -3.322241e-02  6.447247e-02  8.136861e-01  1.382112e-01   \n",
       "max    3.698033e+00  6.057231e+00  8.802001e+00  1.641564e+00  4.246248e+00   \n",
       "\n",
       "                  5             6             7             8  \n",
       "count  1.500000e+02  1.500000e+02  1.500000e+02  1.500000e+02  \n",
       "mean  -5.366078e-17 -4.440892e-18 -1.591320e-17 -4.588922e-17  \n",
       "std    1.003350e+00  1.003350e+00  1.003350e+00  1.003350e+00  \n",
       "min   -2.340212e-01 -3.654994e-01 -2.105935e-01 -3.389854e-01  \n",
       "25%   -2.340212e-01 -3.598377e-01 -2.105935e-01 -3.346291e-01  \n",
       "50%   -2.326535e-01 -3.121219e-01 -2.074308e-01 -3.182929e-01  \n",
       "75%   -1.985302e-01 -1.355498e-01 -1.497116e-01 -1.883657e-01  \n",
       "max    8.215924e+00  9.131885e+00  1.015673e+01  8.918626e+00  "
      ]
     },
     "execution_count": 17,
     "metadata": {},
     "output_type": "execute_result"
    }
   ],
   "source": [
    "X = pd.DataFrame(X_sc)\n",
    "X.describe()"
   ]
  },
  {
   "cell_type": "code",
   "execution_count": 18,
   "id": "91005f04-a832-469d-a558-97528bf5fc75",
   "metadata": {},
   "outputs": [
    {
     "data": {
      "image/png": "[encoded data removed]",
      "text/plain": [
       "<Figure size 576x396 with 2 Axes>"
      ]
     },
     "metadata": {},
     "output_type": "display_data"
    },
    {
     "data": {
      "text/plain": [
       "<AxesSubplot:title={'center':'Distortion Score Elbow for KMeans Clustering'}, xlabel='k', ylabel='distortion score'>"
      ]
     },
     "execution_count": 18,
     "metadata": {},
     "output_type": "execute_result"
    }
   ],
   "source": [
    "from yellowbrick.cluster import KElbowVisualizer\n",
    "\n",
    "model = KMeans(random_state = 42)\n",
    "visualizer = KElbowVisualizer(model, k=(1,15))\n",
    "\n",
    "visualizer.fit(X)        # Fit the data to the visualizer\n",
    "visualizer.show()        # Finalize and render the figure"
   ]
  },
  {
   "cell_type": "code",
   "execution_count": 19,
   "id": "9f74dfd1-351c-4caa-99cc-e8256dd713f7",
   "metadata": {},
   "outputs": [
    {
     "data": {
      "text/plain": [
       "[1350.0000000000007,\n",
       " 1087.196829346719,\n",
       " 940.0442494592172,\n",
       " 796.6492844169367,\n",
       " 704.3437868791511,\n",
       " 597.8643658638443,\n",
       " 536.1748992549753,\n",
       " 450.14804886726785,\n",
       " 406.35083576081894,\n",
       " 338.6765554441107,\n",
       " 325.4605454671154,\n",
       " 295.49056974067474,\n",
       " 267.2016285425126,\n",
       " 251.24596910756713]"
      ]
     },
     "execution_count": 19,
     "metadata": {},
     "output_type": "execute_result"
    }
   ],
   "source": [
    "L = []\n",
    "for i in np.arange(1, 15):\n",
    "    model = KMeans(n_clusters = i)\n",
    "    model.fit(X)\n",
    "    L.append(model.inertia_)\n",
    "L"
   ]
  },
  {
   "cell_type": "raw",
   "id": "232a0b94-ff1d-4677-bd37-df9a97d38e4e",
   "metadata": {},
   "source": [
    "from yellowbrick.cluster.elbow import kelbow_visualizer\n",
    "# Use the quick method and immediately show the figure\n",
    "kelbow_visualizer(KMeans(random_state=42), X, L= np.arange(1, 10))"
   ]
  },
  {
   "cell_type": "code",
   "execution_count": 20,
   "id": "74873708-715b-40d1-a0aa-7b2e10012312",
   "metadata": {},
   "outputs": [
    {
     "data": {
      "image/png": "[encoded data removed]",
      "text/plain": [
       "<Figure size 576x360 with 1 Axes>"
      ]
     },
     "metadata": {},
     "output_type": "display_data"
    }
   ],
   "source": [
    "plt.figure(figsize =(8, 5))\n",
    "plt.plot(np.arange(1, 15), L, 'rp--')\n",
    "plt.xlabel('Nombre de groupe')\n",
    "plt.ylabel('Inertia')\n",
    "plt.title('Nombre de cluster par la methode du coude(Elbow)')\n",
    "plt.grid()\n",
    "plt.show()"
   ]
  },
  {
   "cell_type": "code",
   "execution_count": 21,
   "id": "5f129fb9-f7ca-40e2-b5fd-7b39ee1e4471",
   "metadata": {},
   "outputs": [
    {
     "data": {
      "text/plain": [
       "KMeans(n_clusters=7, random_state=42)"
      ]
     },
     "execution_count": 21,
     "metadata": {},
     "output_type": "execute_result"
    }
   ],
   "source": [
    "modele = KMeans(n_clusters = 7, random_state = 42)\n",
    "modele.fit(X)"
   ]
  },
  {
   "cell_type": "code",
   "execution_count": 22,
   "id": "aa1bfe0e-7abc-42be-8cba-802089424d3e",
   "metadata": {},
   "outputs": [],
   "source": [
    "y_pred = modele.predict(X)"
   ]
  },
  {
   "cell_type": "code",
   "execution_count": 23,
   "id": "bdb1501e-6112-40c3-a69c-db812807869b",
   "metadata": {},
   "outputs": [
    {
     "data": {
      "text/plain": [
       "array([6, 6, 6, 6, 1, 0, 6, 6, 6, 0, 0, 6, 0, 2, 0, 1, 6, 0, 6, 6, 0, 2,\n",
       "       0, 6, 6, 0, 6, 0, 0, 6, 6, 6, 0, 0, 0, 6, 5, 6, 0, 0, 0, 6, 0, 0,\n",
       "       1, 2, 6, 6, 6, 0, 6, 6, 6, 6, 6, 0, 2, 0, 0, 6, 1, 6, 0, 6, 6, 6,\n",
       "       0, 0, 0, 6, 4, 0, 3, 6, 6, 0, 6, 0, 6, 0, 6, 0, 6, 2, 0, 6, 0, 6,\n",
       "       6, 2, 0, 0, 0, 6, 0, 6, 2, 0, 6, 6, 6, 0, 0, 6, 0, 0, 0, 6, 6, 6,\n",
       "       0, 6, 6, 6, 0, 0, 0, 6, 6, 0, 3, 5, 0, 6, 3, 6, 0, 6, 0, 6, 6, 0,\n",
       "       0, 6, 6, 0, 6, 0, 6, 6, 4, 0, 6, 0, 6, 2, 6, 0, 6, 0])"
      ]
     },
     "execution_count": 23,
     "metadata": {},
     "output_type": "execute_result"
    }
   ],
   "source": [
    "y_pred"
   ]
  },
  {
   "cell_type": "code",
   "execution_count": 32,
   "id": "e3d4ff88-e85f-475a-b66f-6e1bfee4c600",
   "metadata": {},
   "outputs": [
    {
     "data": {
      "text/plain": [
       "<matplotlib.collections.PathCollection at 0x1cc6608dd60>"
      ]
     },
     "execution_count": 32,
     "metadata": {},
     "output_type": "execute_result"
    },
    {
     "data": {
      "image/png": "[encoded data removed]",
      "text/plain": [
       "<Figure size 720x576 with 1 Axes>"
      ]
     },
     "metadata": {},
     "output_type": "display_data"
    }
   ],
   "source": [
    "plt.figure(figsize=(10, 8))\n",
    "plt.scatter(X_sc[:, 0], X_sc[:, 1], c= y_pred, alpha = 0.8)"
   ]
  },
  {
   "cell_type": "code",
   "execution_count": 25,
   "id": "dd7a08cb-ca9f-455a-9ac6-5843c379056e",
   "metadata": {},
   "outputs": [
    {
     "data": {
      "text/plain": [
       "501.0412173793794"
      ]
     },
     "execution_count": 25,
     "metadata": {},
     "output_type": "execute_result"
    }
   ],
   "source": [
    "modele.inertia_"
   ]
  },
  {
   "cell_type": "code",
   "execution_count": 26,
   "id": "7788a3fb-e248-4fda-8dcd-fd76494fe238",
   "metadata": {},
   "outputs": [
    {
     "data": {
      "text/plain": [
       "array([[ 1.37520248e-01, -3.20706564e-01,  1.44259115e-01,\n",
       "         7.90570017e-01,  3.68688526e-01, -1.74166630e-01,\n",
       "        -6.08236570e-02, -1.38115034e-01, -1.35989732e-03],\n",
       "       [-2.19987975e-01,  5.90111233e-01, -1.52669806e-01,\n",
       "         4.75008613e-01,  1.43625432e+00,  4.86250573e+00,\n",
       "         4.20107419e+00, -2.55756868e-02,  4.22480236e+00],\n",
       "       [-3.85088104e-02,  3.54375323e+00, -1.47986465e-01,\n",
       "        -1.04097632e+00, -9.08277848e-02,  3.74897001e-01,\n",
       "         4.49809610e-01, -1.48130245e-01,  2.03131122e-01],\n",
       "       [ 4.78045988e-02, -4.30197171e-01,  5.53901872e+00,\n",
       "         1.46236996e+00,  3.17789738e+00, -2.20300382e-01,\n",
       "        -2.73263409e-01, -1.24146450e-01, -2.28843201e-01],\n",
       "       [-6.68976314e+00, -1.91284369e-01, -5.71882241e-01,\n",
       "        -2.62684709e+00, -6.68930786e-01, -2.29456281e-01,\n",
       "        -3.55615286e-01,  1.04341633e+00, -3.33540047e-01],\n",
       "       [ 1.45592785e-01, -4.14934132e-01, -1.97581065e-01,\n",
       "         9.48081927e-01,  1.27955331e+00,  1.37692237e-01,\n",
       "         1.74386664e-01,  7.77363829e+00,  1.14978628e+00],\n",
       "       [ 8.28413299e-02, -1.26268288e-01, -3.09001486e-01,\n",
       "        -5.92056401e-01, -5.33727377e-01, -1.57109463e-01,\n",
       "        -2.19311363e-01, -1.08273565e-01, -2.73079260e-01]])"
      ]
     },
     "execution_count": 26,
     "metadata": {},
     "output_type": "execute_result"
    }
   ],
   "source": [
    "modele.cluster_centers_"
   ]
  },
  {
   "cell_type": "code",
   "execution_count": 27,
   "id": "e8556bd3-ecae-4644-8cc2-a8099e4ccf03",
   "metadata": {},
   "outputs": [],
   "source": [
    "centres= pd.DataFrame(modele.cluster_centers_, columns=df.columns)"
   ]
  },
  {
   "cell_type": "code",
   "execution_count": 28,
   "id": "94848f2f-840e-4794-af59-155f90ba215c",
   "metadata": {},
   "outputs": [
    {
     "data": {
      "text/html": [
       "<div>\n",
       "<style scoped>\n",
       "    .dataframe tbody tr th:only-of-type {\n",
       "        vertical-align: middle;\n",
       "    }\n",
       "\n",
       "    .dataframe tbody tr th {\n",
       "        vertical-align: top;\n",
       "    }\n",
       "\n",
       "    .dataframe thead th {\n",
       "        text-align: right;\n",
       "    }\n",
       "</style>\n",
       "<table border=\"1\" class=\"dataframe\">\n",
       "  <thead>\n",
       "    <tr style=\"text-align: right;\">\n",
       "      <th></th>\n",
       "      <th>croissance_annuelle</th>\n",
       "      <th>Population*1000</th>\n",
       "      <th>ODD Depenses Agricoles</th>\n",
       "      <th>Stabilité Politique</th>\n",
       "      <th>PIB/Habitant</th>\n",
       "      <th>Exportations_pdt</th>\n",
       "      <th>Importations_pdt</th>\n",
       "      <th>Exportations_Frites</th>\n",
       "      <th>Importations_Frites</th>\n",
       "    </tr>\n",
       "  </thead>\n",
       "  <tbody>\n",
       "    <tr>\n",
       "      <th>0</th>\n",
       "      <td>0.137520</td>\n",
       "      <td>-0.320707</td>\n",
       "      <td>0.144259</td>\n",
       "      <td>0.790570</td>\n",
       "      <td>0.368689</td>\n",
       "      <td>-0.174167</td>\n",
       "      <td>-0.060824</td>\n",
       "      <td>-0.138115</td>\n",
       "      <td>-0.001360</td>\n",
       "    </tr>\n",
       "    <tr>\n",
       "      <th>1</th>\n",
       "      <td>-0.219988</td>\n",
       "      <td>0.590111</td>\n",
       "      <td>-0.152670</td>\n",
       "      <td>0.475009</td>\n",
       "      <td>1.436254</td>\n",
       "      <td>4.862506</td>\n",
       "      <td>4.201074</td>\n",
       "      <td>-0.025576</td>\n",
       "      <td>4.224802</td>\n",
       "    </tr>\n",
       "    <tr>\n",
       "      <th>2</th>\n",
       "      <td>-0.038509</td>\n",
       "      <td>3.543753</td>\n",
       "      <td>-0.147986</td>\n",
       "      <td>-1.040976</td>\n",
       "      <td>-0.090828</td>\n",
       "      <td>0.374897</td>\n",
       "      <td>0.449810</td>\n",
       "      <td>-0.148130</td>\n",
       "      <td>0.203131</td>\n",
       "    </tr>\n",
       "    <tr>\n",
       "      <th>3</th>\n",
       "      <td>0.047805</td>\n",
       "      <td>-0.430197</td>\n",
       "      <td>5.539019</td>\n",
       "      <td>1.462370</td>\n",
       "      <td>3.177897</td>\n",
       "      <td>-0.220300</td>\n",
       "      <td>-0.273263</td>\n",
       "      <td>-0.124146</td>\n",
       "      <td>-0.228843</td>\n",
       "    </tr>\n",
       "    <tr>\n",
       "      <th>4</th>\n",
       "      <td>-6.689763</td>\n",
       "      <td>-0.191284</td>\n",
       "      <td>-0.571882</td>\n",
       "      <td>-2.626847</td>\n",
       "      <td>-0.668931</td>\n",
       "      <td>-0.229456</td>\n",
       "      <td>-0.355615</td>\n",
       "      <td>1.043416</td>\n",
       "      <td>-0.333540</td>\n",
       "    </tr>\n",
       "    <tr>\n",
       "      <th>5</th>\n",
       "      <td>0.145593</td>\n",
       "      <td>-0.414934</td>\n",
       "      <td>-0.197581</td>\n",
       "      <td>0.948082</td>\n",
       "      <td>1.279553</td>\n",
       "      <td>0.137692</td>\n",
       "      <td>0.174387</td>\n",
       "      <td>7.773638</td>\n",
       "      <td>1.149786</td>\n",
       "    </tr>\n",
       "    <tr>\n",
       "      <th>6</th>\n",
       "      <td>0.082841</td>\n",
       "      <td>-0.126268</td>\n",
       "      <td>-0.309001</td>\n",
       "      <td>-0.592056</td>\n",
       "      <td>-0.533727</td>\n",
       "      <td>-0.157109</td>\n",
       "      <td>-0.219311</td>\n",
       "      <td>-0.108274</td>\n",
       "      <td>-0.273079</td>\n",
       "    </tr>\n",
       "  </tbody>\n",
       "</table>\n",
       "</div>"
      ],
      "text/plain": [
       "   croissance_annuelle  Population*1000  ODD Depenses Agricoles  \\\n",
       "0             0.137520        -0.320707                0.144259   \n",
       "1            -0.219988         0.590111               -0.152670   \n",
       "2            -0.038509         3.543753               -0.147986   \n",
       "3             0.047805        -0.430197                5.539019   \n",
       "4            -6.689763        -0.191284               -0.571882   \n",
       "5             0.145593        -0.414934               -0.197581   \n",
       "6             0.082841        -0.126268               -0.309001   \n",
       "\n",
       "   Stabilité Politique  PIB/Habitant  Exportations_pdt  Importations_pdt  \\\n",
       "0             0.790570      0.368689         -0.174167         -0.060824   \n",
       "1             0.475009      1.436254          4.862506          4.201074   \n",
       "2            -1.040976     -0.090828          0.374897          0.449810   \n",
       "3             1.462370      3.177897         -0.220300         -0.273263   \n",
       "4            -2.626847     -0.668931         -0.229456         -0.355615   \n",
       "5             0.948082      1.279553          0.137692          0.174387   \n",
       "6            -0.592056     -0.533727         -0.157109         -0.219311   \n",
       "\n",
       "   Exportations_Frites  Importations_Frites  \n",
       "0            -0.138115            -0.001360  \n",
       "1            -0.025576             4.224802  \n",
       "2            -0.148130             0.203131  \n",
       "3            -0.124146            -0.228843  \n",
       "4             1.043416            -0.333540  \n",
       "5             7.773638             1.149786  \n",
       "6            -0.108274            -0.273079  "
      ]
     },
     "execution_count": 28,
     "metadata": {},
     "output_type": "execute_result"
    }
   ],
   "source": [
    "centres"
   ]
  },
  {
   "cell_type": "code",
   "execution_count": 29,
   "id": "1ce90f89-1be6-4152-84b3-889a9a710e09",
   "metadata": {},
   "outputs": [
    {
     "data": {
      "text/plain": [
       "<seaborn.matrix.ClusterGrid at 0x1cc64c87580>"
      ]
     },
     "execution_count": 29,
     "metadata": {},
     "output_type": "execute_result"
    },
    {
     "data": {
      "image/png": "[encoded data removed]",
      "text/plain": [
       "<Figure size 720x720 with 4 Axes>"
      ]
     },
     "metadata": {},
     "output_type": "display_data"
    }
   ],
   "source": [
    "sns.clustermap(centres)"
   ]
  },
  {
   "cell_type": "code",
   "execution_count": 35,
   "id": "551e46ad-9bd6-4a0e-ab88-a9e9c86da162",
   "metadata": {},
   "outputs": [],
   "source": [
    "def scan_cluster(X, y_pred):\n",
    "    df = pd.DataFrame(dict(x = X_sc[:, 0], y = X_sc[:, 1], label = y_pred))\n",
    "    colors = {-1 : \"blue\", 0: \"g\", 1: 'y', 2: 'purple', 3: 'orange', 4: 'grey', 5: 'pink', 6: \"r\"}\n",
    "    fig, ax = plt.subplots(figsize = (8, 6))\n",
    "    grouped = df.groupby(\"label\")\n",
    "    for key, group in grouped:\n",
    "        group.plot(ax = ax, kind = \"scatter\", x = 'x', y = 'y', label = key, color = colors[key])\n",
    "    plt.show()"
   ]
  },
  {
   "cell_type": "code",
   "execution_count": 36,
   "id": "1564654c-fc02-4118-afe6-bc93a82da4c7",
   "metadata": {},
   "outputs": [
    {
     "data": {
      "image/png": "[encoded data removed]",
      "text/plain": [
       "<Figure size 576x432 with 1 Axes>"
      ]
     },
     "metadata": {},
     "output_type": "display_data"
    }
   ],
   "source": [
    "scan_cluster(X, y_pred)"
   ]
  }
 ],
 "metadata": {
  "kernelspec": {
   "display_name": "Python 3 (ipykernel)",
   "language": "python",
   "name": "python3"
  },
  "language_info": {
   "codemirror_mode": {
    "name": "ipython",
    "version": 3
   },
   "file_extension": ".py",
   "mimetype": "text/x-python",
   "name": "python",
   "nbconvert_exporter": "python",
   "pygments_lexer": "ipython3",
   "version": "3.9.7"
  }
 },
 "nbformat": 4,
 "nbformat_minor": 5
}
